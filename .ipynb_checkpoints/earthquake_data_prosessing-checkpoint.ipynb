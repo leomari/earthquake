{
 "cells": [
  {
   "cell_type": "code",
   "execution_count": 1,
   "metadata": {
    "collapsed": true
   },
   "outputs": [],
   "source": [
    "import numpy as np\n",
    "import pandas as pd\n",
    "import geojson"
   ]
  },
  {
   "cell_type": "code",
   "execution_count": 2,
   "metadata": {
    "collapsed": true
   },
   "outputs": [],
   "source": [
    "df=pd.read_csv('Reddsa2.csv')\n",
    "df['HsSendDate']=pd.to_datetime(df['HsSendDate'])"
   ]
  },
  {
   "cell_type": "code",
   "execution_count": 3,
   "metadata": {
    "collapsed": true
   },
   "outputs": [],
   "source": [
    "origin=21\n",
    "\n",
    "count=0\n",
    "time=[]\n",
    "tp=0\n",
    "i=0\n",
    "for i in range(len(df)):\n",
    "    #s=sensors['Sn'][count]\n",
    "    #if df['Sn'][i]==s:\n",
    "    t=df['HsSendDate'][i].second\n",
    "    while t<tp:\n",
    "        t+=60\n",
    "        \n",
    "    time.append(t-origin)\n",
    "    tp=t\n",
    "\n",
    "df['Time']=time"
   ]
  },
  {
   "cell_type": "code",
   "execution_count": 4,
   "metadata": {
    "collapsed": true
   },
   "outputs": [],
   "source": [
    "df=df[['Sn','Lat','Lon','S_Gal','MdAct','Time']]"
   ]
  },
  {
   "cell_type": "code",
   "execution_count": 5,
   "metadata": {},
   "outputs": [],
   "source": [
    "b=df['MdAct']=='ON'\n",
    "df['MdAct']=b"
   ]
  },
  {
   "cell_type": "code",
   "execution_count": 6,
   "metadata": {
    "collapsed": true
   },
   "outputs": [],
   "source": [
    "sensors=df['Sn'].unique()"
   ]
  },
  {
   "cell_type": "code",
   "execution_count": 7,
   "metadata": {
    "collapsed": true
   },
   "outputs": [],
   "source": [
    "sensorframes=[]\n",
    "for i in range(len(sensors)):\n",
    "    sensorframes.append(df[df['Sn']==sensors[i]].reset_index().drop('index',axis=1))"
   ]
  },
  {
   "cell_type": "code",
   "execution_count": 8,
   "metadata": {},
   "outputs": [
    {
     "data": {
      "text/html": [
       "<div>\n",
       "<style>\n",
       "    .dataframe thead tr:only-child th {\n",
       "        text-align: right;\n",
       "    }\n",
       "\n",
       "    .dataframe thead th {\n",
       "        text-align: left;\n",
       "    }\n",
       "\n",
       "    .dataframe tbody tr th {\n",
       "        vertical-align: top;\n",
       "    }\n",
       "</style>\n",
       "<table border=\"1\" class=\"dataframe\">\n",
       "  <thead>\n",
       "    <tr style=\"text-align: right;\">\n",
       "      <th></th>\n",
       "      <th>Sn</th>\n",
       "      <th>Lat</th>\n",
       "      <th>Lon</th>\n",
       "      <th>S_Gal</th>\n",
       "      <th>MdAct</th>\n",
       "      <th>Time</th>\n",
       "    </tr>\n",
       "  </thead>\n",
       "  <tbody>\n",
       "    <tr>\n",
       "      <th>0</th>\n",
       "      <td>1604062</td>\n",
       "      <td>15.6855</td>\n",
       "      <td>-93.2022</td>\n",
       "      <td>0.60</td>\n",
       "      <td>False</td>\n",
       "      <td>18</td>\n",
       "    </tr>\n",
       "    <tr>\n",
       "      <th>1</th>\n",
       "      <td>1604062</td>\n",
       "      <td>15.6855</td>\n",
       "      <td>-93.2022</td>\n",
       "      <td>0.65</td>\n",
       "      <td>False</td>\n",
       "      <td>19</td>\n",
       "    </tr>\n",
       "    <tr>\n",
       "      <th>2</th>\n",
       "      <td>1604062</td>\n",
       "      <td>15.6855</td>\n",
       "      <td>-93.2022</td>\n",
       "      <td>0.74</td>\n",
       "      <td>False</td>\n",
       "      <td>19</td>\n",
       "    </tr>\n",
       "    <tr>\n",
       "      <th>3</th>\n",
       "      <td>1604062</td>\n",
       "      <td>15.6855</td>\n",
       "      <td>-93.2022</td>\n",
       "      <td>1.16</td>\n",
       "      <td>False</td>\n",
       "      <td>20</td>\n",
       "    </tr>\n",
       "    <tr>\n",
       "      <th>4</th>\n",
       "      <td>1604062</td>\n",
       "      <td>15.6855</td>\n",
       "      <td>-93.2022</td>\n",
       "      <td>1.63</td>\n",
       "      <td>False</td>\n",
       "      <td>20</td>\n",
       "    </tr>\n",
       "    <tr>\n",
       "      <th>5</th>\n",
       "      <td>1604062</td>\n",
       "      <td>15.6855</td>\n",
       "      <td>-93.2022</td>\n",
       "      <td>2.13</td>\n",
       "      <td>False</td>\n",
       "      <td>21</td>\n",
       "    </tr>\n",
       "    <tr>\n",
       "      <th>6</th>\n",
       "      <td>1604062</td>\n",
       "      <td>15.6855</td>\n",
       "      <td>-93.2022</td>\n",
       "      <td>2.50</td>\n",
       "      <td>False</td>\n",
       "      <td>22</td>\n",
       "    </tr>\n",
       "    <tr>\n",
       "      <th>7</th>\n",
       "      <td>1604062</td>\n",
       "      <td>15.6855</td>\n",
       "      <td>-93.2022</td>\n",
       "      <td>2.83</td>\n",
       "      <td>False</td>\n",
       "      <td>24</td>\n",
       "    </tr>\n",
       "    <tr>\n",
       "      <th>8</th>\n",
       "      <td>1604062</td>\n",
       "      <td>15.6855</td>\n",
       "      <td>-93.2022</td>\n",
       "      <td>3.92</td>\n",
       "      <td>False</td>\n",
       "      <td>26</td>\n",
       "    </tr>\n",
       "    <tr>\n",
       "      <th>9</th>\n",
       "      <td>1604062</td>\n",
       "      <td>15.6855</td>\n",
       "      <td>-93.2022</td>\n",
       "      <td>4.88</td>\n",
       "      <td>False</td>\n",
       "      <td>28</td>\n",
       "    </tr>\n",
       "    <tr>\n",
       "      <th>10</th>\n",
       "      <td>1604062</td>\n",
       "      <td>15.6855</td>\n",
       "      <td>-93.2022</td>\n",
       "      <td>5.32</td>\n",
       "      <td>False</td>\n",
       "      <td>31</td>\n",
       "    </tr>\n",
       "    <tr>\n",
       "      <th>11</th>\n",
       "      <td>1604062</td>\n",
       "      <td>15.6855</td>\n",
       "      <td>-93.2022</td>\n",
       "      <td>10.20</td>\n",
       "      <td>False</td>\n",
       "      <td>34</td>\n",
       "    </tr>\n",
       "    <tr>\n",
       "      <th>12</th>\n",
       "      <td>1604062</td>\n",
       "      <td>15.6855</td>\n",
       "      <td>-93.2022</td>\n",
       "      <td>17.72</td>\n",
       "      <td>False</td>\n",
       "      <td>38</td>\n",
       "    </tr>\n",
       "    <tr>\n",
       "      <th>13</th>\n",
       "      <td>1604062</td>\n",
       "      <td>15.6855</td>\n",
       "      <td>-93.2022</td>\n",
       "      <td>25.20</td>\n",
       "      <td>False</td>\n",
       "      <td>44</td>\n",
       "    </tr>\n",
       "  </tbody>\n",
       "</table>\n",
       "</div>"
      ],
      "text/plain": [
       "         Sn      Lat      Lon  S_Gal  MdAct  Time\n",
       "0   1604062  15.6855 -93.2022   0.60  False    18\n",
       "1   1604062  15.6855 -93.2022   0.65  False    19\n",
       "2   1604062  15.6855 -93.2022   0.74  False    19\n",
       "3   1604062  15.6855 -93.2022   1.16  False    20\n",
       "4   1604062  15.6855 -93.2022   1.63  False    20\n",
       "5   1604062  15.6855 -93.2022   2.13  False    21\n",
       "6   1604062  15.6855 -93.2022   2.50  False    22\n",
       "7   1604062  15.6855 -93.2022   2.83  False    24\n",
       "8   1604062  15.6855 -93.2022   3.92  False    26\n",
       "9   1604062  15.6855 -93.2022   4.88  False    28\n",
       "10  1604062  15.6855 -93.2022   5.32  False    31\n",
       "11  1604062  15.6855 -93.2022  10.20  False    34\n",
       "12  1604062  15.6855 -93.2022  17.72  False    38\n",
       "13  1604062  15.6855 -93.2022  25.20  False    44"
      ]
     },
     "execution_count": 8,
     "metadata": {},
     "output_type": "execute_result"
    }
   ],
   "source": [
    "sensorframes[0]"
   ]
  },
  {
   "cell_type": "code",
   "execution_count": 9,
   "metadata": {
    "collapsed": true
   },
   "outputs": [],
   "source": [
    "t_max=df['Time'].max()"
   ]
  },
  {
   "cell_type": "code",
   "execution_count": 10,
   "metadata": {
    "collapsed": true
   },
   "outputs": [],
   "source": [
    "timeSensorFrames = []\n",
    "newTime=list(range(t_max))\n",
    "for sensorframe in sensorframes:\n",
    "    timeSeries = np.asarray(sensorframe['Time'])\n",
    "    S_GalSeries = np.asarray(sensorframe['S_Gal'])\n",
    "    MdActSeries = np.asarray(sensorframe['MdAct'])\n",
    "    counter = 0\n",
    "    \n",
    "    S_Gal_new = np.zeros(t_max)\n",
    "    Md_Act_new = np.zeros(t_max)\n",
    "    Sn_new = np.ones(t_max)*sensorframe['Sn'][0]\n",
    "    Lat_new = np.ones(t_max)*sensorframe['Lat'][0]\n",
    "    Lon_new = np.ones(t_max)*sensorframe['Lon'][0]\n",
    "    i = timeSeries[0]\n",
    "    \n",
    "    local_max = timeSeries.max()\n",
    "    while i < local_max+1 and i < t_max:\n",
    "        \n",
    "        \n",
    "        if i == timeSeries[counter]:\n",
    "            v=[]\n",
    "            w=[]\n",
    "            while i == timeSeries[counter] and counter < len(timeSeries)-1:\n",
    "                v.append(S_GalSeries[counter])\n",
    "                w.append(int(MdActSeries[counter]))\n",
    "                counter+=1\n",
    "            \n",
    "\n",
    "            if len(v) > 0: \n",
    "                max_v = max(v)\n",
    "                max_w = max(w)\n",
    "            S_Gal_new[i] = max_v\n",
    "            Md_Act_new[i] = max_w\n",
    "                \n",
    "\n",
    "            i += 1\n",
    "        else:\n",
    "            S_Gal_new[i] = max_v\n",
    "            Md_Act_new[i] = max_w\n",
    "            i += 1\n",
    "    \n",
    "\n",
    "            \n",
    "    S_Gal_new[i:]=S_GalSeries[-1]*np.ones(len(S_Gal_new[i:]))        \n",
    "    frame=pd.DataFrame()\n",
    "    frame['Sn'] = Sn_new\n",
    "    frame['Lat'] = Lat_new\n",
    "    frame['Lon'] = Lon_new\n",
    "    frame['MdAct'] = Md_Act_new\n",
    "    frame['S_Gal'] = S_Gal_new\n",
    "    frame['Time'] = newTime\n",
    "    timeSensorFrames.append(frame)\n",
    "       "
   ]
  },
  {
   "cell_type": "code",
   "execution_count": 11,
   "metadata": {
    "collapsed": true
   },
   "outputs": [],
   "source": [
    "all_sensors = pd.concat(timeSensorFrames,ignore_index=True)"
   ]
  },
  {
   "cell_type": "code",
   "execution_count": 12,
   "metadata": {
    "collapsed": true
   },
   "outputs": [],
   "source": [
    "import geojson\n",
    "\n",
    "def data2geojson(df):\n",
    "    features = []\n",
    "    insert_features = lambda X: features.append(\n",
    "            geojson.Feature(geometry=geojson.Point((X[\"Lon\"],\n",
    "                                                    X[\"Lat\"])),\n",
    "                            properties=dict(Sn=X[\"Sn\"],\n",
    "                                            S_Gal=X[\"S_Gal\"],\n",
    "                                           MdAct=int(X['MdAct']),\n",
    "                                            Time=X['Time'],\n",
    "                                            Description= '<strong> Sensor </strong> <p>Serial number: '\n",
    "                                            + str(int(X['Sn']))+'</p> <p> Activated: ' + str(X['MdAct']) + \n",
    "                                            '</p> <p> Intensity: '+str(X['S_Gal'])+'</p>'\n",
    "                                           )))\n",
    "    df.apply(insert_features, axis=1)\n",
    "    with open('map_all4.geojson', 'w', encoding='utf8') as fp:\n",
    "        geojson.dump(geojson.FeatureCollection(features), fp, sort_keys=True, ensure_ascii=False)\n"
   ]
  },
  {
   "cell_type": "code",
   "execution_count": 14,
   "metadata": {},
   "outputs": [
    {
     "name": "stdout",
     "output_type": "stream",
     "text": [
      "None\n"
     ]
    }
   ],
   "source": [
    "data2geojson(all_sensors)"
   ]
  },
  {
   "cell_type": "code",
   "execution_count": null,
   "metadata": {
    "collapsed": true
   },
   "outputs": [],
   "source": []
  }
 ],
 "metadata": {
  "kernelspec": {
   "display_name": "Python 3",
   "language": "python",
   "name": "python3"
  },
  "language_info": {
   "codemirror_mode": {
    "name": "ipython",
    "version": 3
   },
   "file_extension": ".py",
   "mimetype": "text/x-python",
   "name": "python",
   "nbconvert_exporter": "python",
   "pygments_lexer": "ipython3",
   "version": "3.6.3"
  }
 },
 "nbformat": 4,
 "nbformat_minor": 2
}
